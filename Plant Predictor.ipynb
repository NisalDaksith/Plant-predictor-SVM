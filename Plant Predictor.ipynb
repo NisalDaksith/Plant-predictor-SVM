{
  "nbformat": 4,
  "nbformat_minor": 0,
  "metadata": {
    "colab": {
      "provenance": []
    },
    "kernelspec": {
      "name": "python3",
      "display_name": "Python 3"
    },
    "language_info": {
      "name": "python"
    }
  },
  "cells": [
    {
      "cell_type": "code",
      "execution_count": 1,
      "metadata": {
        "id": "UzsywS8goo4S"
      },
      "outputs": [],
      "source": [
        "import numpy as np\n",
        "import matplotlib.pyplot as plt\n",
        "import pandas as pd"
      ]
    },
    {
      "cell_type": "code",
      "source": [
        "#Importing the dataset\n",
        "from google.colab import drive\n",
        "drive.mount('/content/drive')"
      ],
      "metadata": {
        "colab": {
          "base_uri": "https://localhost:8080/"
        },
        "id": "H-D_tcc_op2d",
        "outputId": "5d1a8e68-d295-4c4d-d4b9-6e85d6f32896"
      },
      "execution_count": 2,
      "outputs": [
        {
          "output_type": "stream",
          "name": "stdout",
          "text": [
            "Mounted at /content/drive\n"
          ]
        }
      ]
    },
    {
      "cell_type": "code",
      "source": [
        "%cd /content/drive/MyDrive/Y4/\n",
        "ds = pd.read_csv('Dataset.csv')\n",
        "ds"
      ],
      "metadata": {
        "colab": {
          "base_uri": "https://localhost:8080/",
          "height": 441
        },
        "id": "Vs_j1zvhosZf",
        "outputId": "f5f43436-084c-4fac-ee1c-74248c519382"
      },
      "execution_count": 3,
      "outputs": [
        {
          "output_type": "stream",
          "name": "stdout",
          "text": [
            "/content/drive/MyDrive/Y4\n"
          ]
        },
        {
          "output_type": "execute_result",
          "data": {
            "text/plain": [
              "     P.H  Soil EC  phosporus  Pottasium  Urea  T.S.P  M.O.P      Tree\n",
              "0    4.6    0.300        9.5       74.8    96     20     46      Rice\n",
              "1    4.3    0.150       14.6       89.0    96      0     23      Rice\n",
              "2    3.8    0.100        5.9       56.4    96     20     36      Rice\n",
              "3    4.0    0.150        5.8       70.6    96     20     46      Rice\n",
              "4    5.1    0.240        6.0       64.9    96     20     46      Rice\n",
              "..   ...      ...        ...        ...   ...    ...    ...       ...\n",
              "294  7.4    0.020        9.5       57.5    30     14      0  Turmeric\n",
              "295  7.5    0.030       10.0       52.8    30      5     20  Turmeric\n",
              "296  7.3    0.048       11.6       53.3    30      0     14  Turmeric\n",
              "297  7.0    0.033        8.9       51.6    30     14     20  Turmeric\n",
              "298  7.5    0.030       10.5       56.0    30      5      0  Turmeric\n",
              "\n",
              "[299 rows x 8 columns]"
            ],
            "text/html": [
              "\n",
              "  <div id=\"df-4cac3bcb-7094-4985-acf0-800f18dd6959\">\n",
              "    <div class=\"colab-df-container\">\n",
              "      <div>\n",
              "<style scoped>\n",
              "    .dataframe tbody tr th:only-of-type {\n",
              "        vertical-align: middle;\n",
              "    }\n",
              "\n",
              "    .dataframe tbody tr th {\n",
              "        vertical-align: top;\n",
              "    }\n",
              "\n",
              "    .dataframe thead th {\n",
              "        text-align: right;\n",
              "    }\n",
              "</style>\n",
              "<table border=\"1\" class=\"dataframe\">\n",
              "  <thead>\n",
              "    <tr style=\"text-align: right;\">\n",
              "      <th></th>\n",
              "      <th>P.H</th>\n",
              "      <th>Soil EC</th>\n",
              "      <th>phosporus</th>\n",
              "      <th>Pottasium</th>\n",
              "      <th>Urea</th>\n",
              "      <th>T.S.P</th>\n",
              "      <th>M.O.P</th>\n",
              "      <th>Tree</th>\n",
              "    </tr>\n",
              "  </thead>\n",
              "  <tbody>\n",
              "    <tr>\n",
              "      <th>0</th>\n",
              "      <td>4.6</td>\n",
              "      <td>0.300</td>\n",
              "      <td>9.5</td>\n",
              "      <td>74.8</td>\n",
              "      <td>96</td>\n",
              "      <td>20</td>\n",
              "      <td>46</td>\n",
              "      <td>Rice</td>\n",
              "    </tr>\n",
              "    <tr>\n",
              "      <th>1</th>\n",
              "      <td>4.3</td>\n",
              "      <td>0.150</td>\n",
              "      <td>14.6</td>\n",
              "      <td>89.0</td>\n",
              "      <td>96</td>\n",
              "      <td>0</td>\n",
              "      <td>23</td>\n",
              "      <td>Rice</td>\n",
              "    </tr>\n",
              "    <tr>\n",
              "      <th>2</th>\n",
              "      <td>3.8</td>\n",
              "      <td>0.100</td>\n",
              "      <td>5.9</td>\n",
              "      <td>56.4</td>\n",
              "      <td>96</td>\n",
              "      <td>20</td>\n",
              "      <td>36</td>\n",
              "      <td>Rice</td>\n",
              "    </tr>\n",
              "    <tr>\n",
              "      <th>3</th>\n",
              "      <td>4.0</td>\n",
              "      <td>0.150</td>\n",
              "      <td>5.8</td>\n",
              "      <td>70.6</td>\n",
              "      <td>96</td>\n",
              "      <td>20</td>\n",
              "      <td>46</td>\n",
              "      <td>Rice</td>\n",
              "    </tr>\n",
              "    <tr>\n",
              "      <th>4</th>\n",
              "      <td>5.1</td>\n",
              "      <td>0.240</td>\n",
              "      <td>6.0</td>\n",
              "      <td>64.9</td>\n",
              "      <td>96</td>\n",
              "      <td>20</td>\n",
              "      <td>46</td>\n",
              "      <td>Rice</td>\n",
              "    </tr>\n",
              "    <tr>\n",
              "      <th>...</th>\n",
              "      <td>...</td>\n",
              "      <td>...</td>\n",
              "      <td>...</td>\n",
              "      <td>...</td>\n",
              "      <td>...</td>\n",
              "      <td>...</td>\n",
              "      <td>...</td>\n",
              "      <td>...</td>\n",
              "    </tr>\n",
              "    <tr>\n",
              "      <th>294</th>\n",
              "      <td>7.4</td>\n",
              "      <td>0.020</td>\n",
              "      <td>9.5</td>\n",
              "      <td>57.5</td>\n",
              "      <td>30</td>\n",
              "      <td>14</td>\n",
              "      <td>0</td>\n",
              "      <td>Turmeric</td>\n",
              "    </tr>\n",
              "    <tr>\n",
              "      <th>295</th>\n",
              "      <td>7.5</td>\n",
              "      <td>0.030</td>\n",
              "      <td>10.0</td>\n",
              "      <td>52.8</td>\n",
              "      <td>30</td>\n",
              "      <td>5</td>\n",
              "      <td>20</td>\n",
              "      <td>Turmeric</td>\n",
              "    </tr>\n",
              "    <tr>\n",
              "      <th>296</th>\n",
              "      <td>7.3</td>\n",
              "      <td>0.048</td>\n",
              "      <td>11.6</td>\n",
              "      <td>53.3</td>\n",
              "      <td>30</td>\n",
              "      <td>0</td>\n",
              "      <td>14</td>\n",
              "      <td>Turmeric</td>\n",
              "    </tr>\n",
              "    <tr>\n",
              "      <th>297</th>\n",
              "      <td>7.0</td>\n",
              "      <td>0.033</td>\n",
              "      <td>8.9</td>\n",
              "      <td>51.6</td>\n",
              "      <td>30</td>\n",
              "      <td>14</td>\n",
              "      <td>20</td>\n",
              "      <td>Turmeric</td>\n",
              "    </tr>\n",
              "    <tr>\n",
              "      <th>298</th>\n",
              "      <td>7.5</td>\n",
              "      <td>0.030</td>\n",
              "      <td>10.5</td>\n",
              "      <td>56.0</td>\n",
              "      <td>30</td>\n",
              "      <td>5</td>\n",
              "      <td>0</td>\n",
              "      <td>Turmeric</td>\n",
              "    </tr>\n",
              "  </tbody>\n",
              "</table>\n",
              "<p>299 rows × 8 columns</p>\n",
              "</div>\n",
              "      <button class=\"colab-df-convert\" onclick=\"convertToInteractive('df-4cac3bcb-7094-4985-acf0-800f18dd6959')\"\n",
              "              title=\"Convert this dataframe to an interactive table.\"\n",
              "              style=\"display:none;\">\n",
              "        \n",
              "  <svg xmlns=\"http://www.w3.org/2000/svg\" height=\"24px\"viewBox=\"0 0 24 24\"\n",
              "       width=\"24px\">\n",
              "    <path d=\"M0 0h24v24H0V0z\" fill=\"none\"/>\n",
              "    <path d=\"M18.56 5.44l.94 2.06.94-2.06 2.06-.94-2.06-.94-.94-2.06-.94 2.06-2.06.94zm-11 1L8.5 8.5l.94-2.06 2.06-.94-2.06-.94L8.5 2.5l-.94 2.06-2.06.94zm10 10l.94 2.06.94-2.06 2.06-.94-2.06-.94-.94-2.06-.94 2.06-2.06.94z\"/><path d=\"M17.41 7.96l-1.37-1.37c-.4-.4-.92-.59-1.43-.59-.52 0-1.04.2-1.43.59L10.3 9.45l-7.72 7.72c-.78.78-.78 2.05 0 2.83L4 21.41c.39.39.9.59 1.41.59.51 0 1.02-.2 1.41-.59l7.78-7.78 2.81-2.81c.8-.78.8-2.07 0-2.86zM5.41 20L4 18.59l7.72-7.72 1.47 1.35L5.41 20z\"/>\n",
              "  </svg>\n",
              "      </button>\n",
              "      \n",
              "  <style>\n",
              "    .colab-df-container {\n",
              "      display:flex;\n",
              "      flex-wrap:wrap;\n",
              "      gap: 12px;\n",
              "    }\n",
              "\n",
              "    .colab-df-convert {\n",
              "      background-color: #E8F0FE;\n",
              "      border: none;\n",
              "      border-radius: 50%;\n",
              "      cursor: pointer;\n",
              "      display: none;\n",
              "      fill: #1967D2;\n",
              "      height: 32px;\n",
              "      padding: 0 0 0 0;\n",
              "      width: 32px;\n",
              "    }\n",
              "\n",
              "    .colab-df-convert:hover {\n",
              "      background-color: #E2EBFA;\n",
              "      box-shadow: 0px 1px 2px rgba(60, 64, 67, 0.3), 0px 1px 3px 1px rgba(60, 64, 67, 0.15);\n",
              "      fill: #174EA6;\n",
              "    }\n",
              "\n",
              "    [theme=dark] .colab-df-convert {\n",
              "      background-color: #3B4455;\n",
              "      fill: #D2E3FC;\n",
              "    }\n",
              "\n",
              "    [theme=dark] .colab-df-convert:hover {\n",
              "      background-color: #434B5C;\n",
              "      box-shadow: 0px 1px 3px 1px rgba(0, 0, 0, 0.15);\n",
              "      filter: drop-shadow(0px 1px 2px rgba(0, 0, 0, 0.3));\n",
              "      fill: #FFFFFF;\n",
              "    }\n",
              "  </style>\n",
              "\n",
              "      <script>\n",
              "        const buttonEl =\n",
              "          document.querySelector('#df-4cac3bcb-7094-4985-acf0-800f18dd6959 button.colab-df-convert');\n",
              "        buttonEl.style.display =\n",
              "          google.colab.kernel.accessAllowed ? 'block' : 'none';\n",
              "\n",
              "        async function convertToInteractive(key) {\n",
              "          const element = document.querySelector('#df-4cac3bcb-7094-4985-acf0-800f18dd6959');\n",
              "          const dataTable =\n",
              "            await google.colab.kernel.invokeFunction('convertToInteractive',\n",
              "                                                     [key], {});\n",
              "          if (!dataTable) return;\n",
              "\n",
              "          const docLinkHtml = 'Like what you see? Visit the ' +\n",
              "            '<a target=\"_blank\" href=https://colab.research.google.com/notebooks/data_table.ipynb>data table notebook</a>'\n",
              "            + ' to learn more about interactive tables.';\n",
              "          element.innerHTML = '';\n",
              "          dataTable['output_type'] = 'display_data';\n",
              "          await google.colab.output.renderOutput(dataTable, element);\n",
              "          const docLink = document.createElement('div');\n",
              "          docLink.innerHTML = docLinkHtml;\n",
              "          element.appendChild(docLink);\n",
              "        }\n",
              "      </script>\n",
              "    </div>\n",
              "  </div>\n",
              "  "
            ]
          },
          "metadata": {},
          "execution_count": 3
        }
      ]
    },
    {
      "cell_type": "code",
      "source": [
        "X = ds.iloc[:, 0:7].values\n",
        "Y = ds.iloc[:, -1].values\n",
        "print(X[3])\n",
        "print(Y[3])"
      ],
      "metadata": {
        "colab": {
          "base_uri": "https://localhost:8080/"
        },
        "id": "BO2OFi7Mov3-",
        "outputId": "25ea7b24-6aea-4f7d-abb8-3d34d1289058"
      },
      "execution_count": 4,
      "outputs": [
        {
          "output_type": "stream",
          "name": "stdout",
          "text": [
            "[ 4.    0.15  5.8  70.6  96.   20.   46.  ]\n",
            "Rice\n"
          ]
        }
      ]
    },
    {
      "cell_type": "code",
      "source": [
        "from sklearn.model_selection import train_test_split\n",
        "X_train, X_test, Y_train, Y_test = train_test_split(X, Y, test_size = 0.2, random_state = 0)"
      ],
      "metadata": {
        "id": "LCJQJhhkoyTu"
      },
      "execution_count": 5,
      "outputs": []
    },
    {
      "cell_type": "code",
      "source": [
        "print(X_train)\n",
        "print(Y_train)\n",
        "print(X_test)\n",
        "print(Y_test)"
      ],
      "metadata": {
        "colab": {
          "base_uri": "https://localhost:8080/"
        },
        "id": "FtY-Fc-so0Et",
        "outputId": "47f2373f-c08f-4148-e08b-a4fcbf39ed39"
      },
      "execution_count": 6,
      "outputs": [
        {
          "output_type": "stream",
          "name": "stdout",
          "text": [
            "[[7.10e+00 3.15e-01 6.60e+00 ... 2.50e+01 6.00e+00 1.20e+01]\n",
            " [7.00e+00 2.12e-01 6.40e+00 ... 2.50e+01 6.00e+00 0.00e+00]\n",
            " [6.10e+00 3.10e-02 5.10e+00 ... 4.50e+01 1.20e+01 1.40e+01]\n",
            " ...\n",
            " [6.90e+00 8.70e-02 5.70e+00 ... 4.50e+01 0.00e+00 0.00e+00]\n",
            " [5.60e+00 6.50e-02 2.00e+01 ... 1.60e+02 0.00e+00 4.40e+01]\n",
            " [7.00e+00 2.09e-01 5.70e+00 ... 2.50e+01 1.00e+01 0.00e+00]]\n",
            "['Tomato' 'Tomato' 'Cinnamon' 'Turmeric' 'Turmeric' 'Turmeric' 'Turmeric'\n",
            " 'Cinnamon' 'Rice' 'Rice' 'Tomato' 'Turmeric' 'Turmeric' 'Rice' 'Tomato'\n",
            " 'Turmeric' 'Rice' 'Cinnamon' 'Tomato' 'Tomato' 'Cinnamon' 'Tomato'\n",
            " 'Turmeric' 'Turmeric' 'Turmeric' 'Cinnamon' 'Turmeric' 'Turmeric'\n",
            " 'Turmeric' 'Turmeric' 'Turmeric' 'Rice' 'Turmeric' 'Tomato' 'Tomato'\n",
            " 'Tomato' 'Cinnamon' 'Cinnamon' 'Tomato' 'Rice' 'Turmeric' 'Turmeric'\n",
            " 'Tomato' 'Tomato' 'Cinnamon' 'Turmeric' 'Turmeric' 'Turmeric' 'Turmeric'\n",
            " 'Turmeric' 'Tomato' 'Tomato' 'Rice' 'Cinnamon' 'Turmeric' 'Cinnamon'\n",
            " 'Tomato' 'Turmeric' 'Cinnamon' 'Rice' 'Rice' 'Tomato' 'Rice' 'Cinnamon'\n",
            " 'Cinnamon' 'Cinnamon' 'Tomato' 'Tomato' 'Tomato' 'Rice' 'Cinnamon'\n",
            " 'Tomato' 'Cinnamon' 'Cinnamon' 'Tomato' 'Turmeric' 'Turmeric' 'Turmeric'\n",
            " 'Rice' 'Turmeric' 'Rice' 'Cinnamon' 'Turmeric' 'Rice' 'Tomato' 'Tomato'\n",
            " 'Rice' 'Rice' 'Cinnamon' 'Turmeric' 'Turmeric' 'Rice' 'Turmeric'\n",
            " 'Turmeric' 'Turmeric' 'Cinnamon' 'Cinnamon' 'Rice' 'Turmeric' 'Cinnamon'\n",
            " 'Tomato' 'Cinnamon' 'Rice' 'Tomato' 'Cinnamon' 'Rice' 'Rice' 'Tomato'\n",
            " 'Cinnamon' 'Turmeric' 'Turmeric' 'Cinnamon' 'Tomato' 'Cinnamon' 'Tomato'\n",
            " 'Turmeric' 'Tomato' 'Turmeric' 'Turmeric' 'Rice' 'Cinnamon' 'Tomato'\n",
            " 'Turmeric' 'Turmeric' 'Tomato' 'Cinnamon' 'Turmeric' 'Cinnamon'\n",
            " 'Turmeric' 'Cinnamon' 'Turmeric' 'Tomato' 'Rice' 'Tomato' 'Cinnamon'\n",
            " 'Rice' 'Cinnamon' 'Cinnamon' 'Turmeric' 'Turmeric' 'Turmeric' 'Cinnamon'\n",
            " 'Cinnamon' 'Cinnamon' 'Cinnamon' 'Turmeric' 'Tomato' 'Rice' 'Turmeric'\n",
            " 'Tomato' 'Tomato' 'Cinnamon' 'Tomato' 'Cinnamon' 'Turmeric' 'Tomato'\n",
            " 'Turmeric' 'Turmeric' 'Tomato' 'Rice' 'Cinnamon' 'Turmeric' 'Cinnamon'\n",
            " 'Tomato' 'Cinnamon' 'Tomato' 'Turmeric' 'Turmeric' 'Tomato' 'Turmeric'\n",
            " 'Cinnamon' 'Cinnamon' 'Turmeric' 'Rice' 'Cinnamon' 'Cinnamon' 'Rice'\n",
            " 'Cinnamon' 'Tomato' 'Turmeric' 'Cinnamon' 'Rice' 'Cinnamon' 'Turmeric'\n",
            " 'Tomato' 'Rice' 'Cinnamon' 'Tomato' 'Cinnamon' 'Rice' 'Turmeric'\n",
            " 'Turmeric' 'Rice' 'Tomato' 'Cinnamon' 'Tomato' 'Turmeric' 'Tomato' 'Rice'\n",
            " 'Tomato' 'Tomato' 'Tomato' 'Turmeric' 'Turmeric' 'Rice' 'Rice' 'Tomato'\n",
            " 'Tomato' 'Turmeric' 'Turmeric' 'Tomato' 'Turmeric' 'Tomato' 'Cinnamon'\n",
            " 'Tomato' 'Turmeric' 'Cinnamon' 'Turmeric' 'Cinnamon' 'Rice' 'Tomato'\n",
            " 'Turmeric' 'Tomato' 'Turmeric' 'Rice' 'Tomato' 'Cinnamon' 'Cinnamon'\n",
            " 'Cinnamon' 'Turmeric' 'Turmeric' 'Turmeric' 'Rice' 'Tomato' 'Turmeric'\n",
            " 'Tomato' 'Cinnamon' 'Rice' 'Tomato']\n",
            "[[7.500e+00 4.200e-02 9.800e+00 5.240e+01 3.000e+01 5.000e+00 2.000e+01]\n",
            " [6.900e+00 1.820e-01 6.000e+00 6.590e+01 2.500e+01 1.000e+01 1.200e+01]\n",
            " [4.900e+00 3.700e-02 2.400e+01 1.330e+02 1.600e+02 0.000e+00 1.600e+01]\n",
            " [7.500e+00 5.000e-02 9.500e+00 5.730e+01 3.000e+01 1.400e+01 0.000e+00]\n",
            " [7.500e+00 2.400e-02 1.030e+01 5.950e+01 3.000e+01 5.000e+00 0.000e+00]\n",
            " [6.800e+00 1.600e-01 6.100e+00 6.650e+01 2.500e+01 6.000e+00 1.200e+01]\n",
            " [7.200e+00 3.300e-02 9.600e+00 5.710e+01 3.000e+01 5.000e+00 0.000e+00]\n",
            " [7.000e+00 3.100e-02 8.200e+00 5.710e+01 3.000e+01 1.400e+01 0.000e+00]\n",
            " [6.600e+00 4.400e-02 5.900e+00 5.130e+01 4.500e+01 0.000e+00 1.800e+01]\n",
            " [6.800e+00 2.600e-02 5.500e+00 5.250e+01 4.500e+01 8.000e+00 1.400e+01]\n",
            " [7.400e+00 2.200e-02 1.160e+01 5.480e+01 3.000e+01 0.000e+00 1.400e+01]\n",
            " [5.900e+00 9.900e-02 6.250e+01 1.680e+02 1.600e+02 0.000e+00 0.000e+00]\n",
            " [7.000e+00 3.280e-01 7.000e+00 6.880e+01 2.500e+01 0.000e+00 0.000e+00]\n",
            " [7.400e+00 3.800e-02 1.170e+01 6.000e+01 3.000e+01 0.000e+00 0.000e+00]\n",
            " [4.600e+00 3.000e-01 9.500e+00 7.480e+01 1.600e+02 2.000e+01 4.600e+01]\n",
            " [6.600e+00 7.500e-02 5.700e+00 5.600e+01 4.500e+01 0.000e+00 0.000e+00]\n",
            " [7.000e+00 2.100e-02 9.200e+00 5.420e+01 3.000e+01 1.400e+01 1.400e+01]\n",
            " [6.700e+00 8.700e-02 5.700e+00 5.690e+01 4.500e+01 0.000e+00 0.000e+00]\n",
            " [7.400e+00 2.500e-02 8.900e+00 5.050e+01 3.000e+01 1.400e+01 2.000e+01]\n",
            " [7.500e+00 2.300e-02 1.190e+01 5.530e+01 3.000e+01 0.000e+00 0.000e+00]\n",
            " [7.000e+00 1.950e-01 5.800e+00 6.900e+01 2.500e+01 1.000e+01 0.000e+00]\n",
            " [6.300e+00 9.500e-02 5.400e+00 5.570e+01 4.500e+01 8.000e+00 0.000e+00]\n",
            " [6.600e+00 5.000e-02 5.700e+00 5.150e+01 4.500e+01 0.000e+00 1.800e+01]\n",
            " [6.800e+00 9.400e-02 6.500e+00 6.420e+01 2.500e+01 6.000e+00 1.500e+01]\n",
            " [7.200e+00 3.500e-02 1.170e+01 5.000e+01 3.000e+01 0.000e+00 2.000e+01]\n",
            " [6.200e+00 3.400e-02 5.900e+00 5.200e+01 4.500e+01 0.000e+00 1.800e+01]\n",
            " [7.100e+00 8.400e-02 5.800e+00 6.850e+01 2.500e+01 1.000e+01 0.000e+00]\n",
            " [7.300e+00 3.900e-02 1.130e+01 5.560e+01 3.000e+01 0.000e+00 0.000e+00]\n",
            " [7.400e+00 2.000e-02 9.500e+00 5.750e+01 3.000e+01 1.400e+01 0.000e+00]\n",
            " [7.500e+00 3.100e-02 9.900e+00 5.700e+01 3.000e+01 5.000e+00 0.000e+00]\n",
            " [6.300e+00 5.600e-02 5.700e+00 5.200e+01 4.500e+01 0.000e+00 1.800e+01]\n",
            " [6.600e+00 7.400e-02 5.200e+00 5.230e+01 4.500e+01 1.200e+01 1.400e+01]\n",
            " [4.300e+00 1.300e-01 1.060e+01 1.491e+02 9.600e+01 0.000e+00 2.300e+01]\n",
            " [6.300e+00 2.600e-02 5.600e+00 5.210e+01 4.500e+01 8.000e+00 1.800e+01]\n",
            " [7.300e+00 4.800e-02 1.100e+01 5.550e+01 3.000e+01 0.000e+00 0.000e+00]\n",
            " [7.200e+00 2.090e-01 6.100e+00 6.420e+01 2.500e+01 6.000e+00 1.500e+01]\n",
            " [6.900e+00 1.030e-01 6.900e+00 6.800e+01 2.500e+01 0.000e+00 0.000e+00]\n",
            " [6.800e+00 1.630e-01 5.800e+00 6.450e+01 2.500e+01 1.000e+01 1.500e+01]\n",
            " [7.500e+00 3.000e-02 1.050e+01 5.600e+01 3.000e+01 5.000e+00 0.000e+00]\n",
            " [3.900e+00 2.900e-01 5.800e+00 7.940e+01 9.600e+01 2.000e+01 4.600e+01]\n",
            " [7.400e+00 3.700e-02 1.130e+01 5.440e+01 3.000e+01 0.000e+00 1.400e+01]\n",
            " [6.100e+00 5.200e-02 5.300e+00 5.380e+01 4.500e+01 1.200e+01 0.000e+00]\n",
            " [6.900e+00 6.300e-02 5.200e+00 5.230e+01 4.500e+01 1.200e+01 1.400e+01]\n",
            " [4.900e+00 3.700e-02 2.400e+01 1.330e+02 9.600e+01 0.000e+00 1.600e+01]\n",
            " [6.900e+00 5.000e-02 5.100e+00 5.490e+01 4.500e+01 1.200e+01 0.000e+00]\n",
            " [6.900e+00 4.300e-02 5.700e+00 6.480e+01 2.500e+01 1.000e+01 1.500e+01]\n",
            " [7.300e+00 3.500e-02 1.000e+01 5.230e+01 3.000e+01 5.000e+00 2.000e+01]\n",
            " [6.500e+00 2.500e-02 5.900e+00 5.410e+01 4.500e+01 0.000e+00 0.000e+00]\n",
            " [4.300e+00 1.200e-01 1.040e+01 1.004e+02 9.600e+01 0.000e+00 2.300e+01]\n",
            " [4.800e+00 3.440e-01 1.950e+01 5.900e+01 1.600e+02 0.000e+00 3.400e+01]\n",
            " [6.700e+00 9.200e-02 5.600e+00 5.330e+01 4.500e+01 8.000e+00 1.400e+01]\n",
            " [7.100e+00 2.900e-02 1.010e+01 5.850e+01 3.000e+01 5.000e+00 0.000e+00]\n",
            " [6.800e+00 1.580e-01 6.000e+00 6.460e+01 2.500e+01 1.000e+01 1.500e+01]\n",
            " [6.700e+00 7.700e-02 5.000e+00 5.130e+01 4.500e+01 1.200e+01 1.800e+01]\n",
            " [6.500e+00 9.500e-02 5.100e+00 5.390e+01 4.500e+01 1.200e+01 0.000e+00]\n",
            " [7.200e+00 2.700e-02 1.090e+01 5.730e+01 3.000e+01 0.000e+00 0.000e+00]\n",
            " [7.100e+00 2.950e-01 5.900e+00 6.630e+01 2.500e+01 1.000e+01 1.200e+01]\n",
            " [5.100e+00 2.400e-01 6.000e+00 6.490e+01 1.600e+02 2.000e+01 4.600e+01]\n",
            " [7.200e+00 3.800e-02 8.700e+00 6.000e+01 3.000e+01 1.400e+01 0.000e+00]\n",
            " [7.200e+00 3.840e-01 6.200e+00 6.750e+01 2.500e+01 6.000e+00 0.000e+00]]\n",
            "['Turmeric' 'Tomato' 'Rice' 'Turmeric' 'Turmeric' 'Tomato' 'Turmeric'\n",
            " 'Turmeric' 'Cinnamon' 'Cinnamon' 'Turmeric' 'Rice' 'Tomato' 'Turmeric'\n",
            " 'Rice' 'Cinnamon' 'Turmeric' 'Cinnamon' 'Turmeric' 'Turmeric' 'Tomato'\n",
            " 'Cinnamon' 'Cinnamon' 'Tomato' 'Turmeric' 'Cinnamon' 'Tomato' 'Turmeric'\n",
            " 'Turmeric' 'Turmeric' 'Cinnamon' 'Cinnamon' 'Rice' 'Cinnamon' 'Turmeric'\n",
            " 'Tomato' 'Tomato' 'Tomato' 'Turmeric' 'Rice' 'Turmeric' 'Cinnamon'\n",
            " 'Cinnamon' 'Rice' 'Cinnamon' 'Tomato' 'Turmeric' 'Cinnamon' 'Rice' 'Rice'\n",
            " 'Cinnamon' 'Turmeric' 'Tomato' 'Cinnamon' 'Cinnamon' 'Turmeric' 'Tomato'\n",
            " 'Rice' 'Turmeric' 'Tomato']\n"
          ]
        }
      ]
    },
    {
      "cell_type": "code",
      "source": [
        "from sklearn.preprocessing import StandardScaler\n",
        "sc = StandardScaler()\n",
        "X_train = sc.fit_transform(X_train)\n",
        "X_test = sc.transform(X_test)"
      ],
      "metadata": {
        "id": "iIJ27dbFo2VV"
      },
      "execution_count": 7,
      "outputs": []
    },
    {
      "cell_type": "code",
      "source": [
        "print(X_train[3])\n",
        "print(X_test[3])"
      ],
      "metadata": {
        "colab": {
          "base_uri": "https://localhost:8080/"
        },
        "id": "SZVqsKp5o4wl",
        "outputId": "10a22f79-3007-4326-a45b-d7a20da70bdb"
      },
      "execution_count": 8,
      "outputs": [
        {
          "output_type": "stream",
          "name": "stdout",
          "text": [
            "[ 0.57747083 -0.63296111  0.07337027 -0.52197672 -0.48308742 -0.28022772\n",
            "  0.81568097]\n",
            "[ 1.04571689e+00 -5.52946457e-01 -3.08278450e-04 -2.86520724e-01\n",
            " -4.83087417e-01  1.03299629e+00 -9.11813506e-01]\n"
          ]
        }
      ]
    },
    {
      "cell_type": "code",
      "source": [
        "from sklearn.svm import SVC\n",
        "classifier = SVC(kernel = 'linear', random_state = 0)\n",
        "classifier.fit(X_train, Y_train)"
      ],
      "metadata": {
        "colab": {
          "base_uri": "https://localhost:8080/"
        },
        "id": "J9jB2pLkpAH1",
        "outputId": "3fe5bb65-16a1-45a6-bd8a-181f4966c8a2"
      },
      "execution_count": 9,
      "outputs": [
        {
          "output_type": "execute_result",
          "data": {
            "text/plain": [
              "SVC(kernel='linear', random_state=0)"
            ]
          },
          "metadata": {},
          "execution_count": 9
        }
      ]
    },
    {
      "cell_type": "code",
      "source": [
        "print(classifier.predict(sc.transform([[4.5,0.3,9.5,74.8,96,20,46]])))"
      ],
      "metadata": {
        "colab": {
          "base_uri": "https://localhost:8080/"
        },
        "id": "CSp9iLZWpEFF",
        "outputId": "3b5cc369-1b53-4e9a-c96b-130e3719e2a9"
      },
      "execution_count": 10,
      "outputs": [
        {
          "output_type": "stream",
          "name": "stdout",
          "text": [
            "['Rice']\n"
          ]
        }
      ]
    },
    {
      "cell_type": "code",
      "source": [
        "y_pred = classifier.predict(X_test)\n",
        "print(np.concatenate((y_pred.reshape(len(y_pred),1), Y_test.reshape(len(Y_test),1)),1))"
      ],
      "metadata": {
        "colab": {
          "base_uri": "https://localhost:8080/"
        },
        "id": "y5udNQ-xpGpd",
        "outputId": "f6f31cd7-02f5-48a9-f095-31844129bacc"
      },
      "execution_count": 11,
      "outputs": [
        {
          "output_type": "stream",
          "name": "stdout",
          "text": [
            "[['Turmeric' 'Turmeric']\n",
            " ['Tomato' 'Tomato']\n",
            " ['Rice' 'Rice']\n",
            " ['Turmeric' 'Turmeric']\n",
            " ['Turmeric' 'Turmeric']\n",
            " ['Tomato' 'Tomato']\n",
            " ['Turmeric' 'Turmeric']\n",
            " ['Turmeric' 'Turmeric']\n",
            " ['Cinnamon' 'Cinnamon']\n",
            " ['Cinnamon' 'Cinnamon']\n",
            " ['Turmeric' 'Turmeric']\n",
            " ['Rice' 'Rice']\n",
            " ['Tomato' 'Tomato']\n",
            " ['Turmeric' 'Turmeric']\n",
            " ['Rice' 'Rice']\n",
            " ['Cinnamon' 'Cinnamon']\n",
            " ['Turmeric' 'Turmeric']\n",
            " ['Cinnamon' 'Cinnamon']\n",
            " ['Turmeric' 'Turmeric']\n",
            " ['Turmeric' 'Turmeric']\n",
            " ['Tomato' 'Tomato']\n",
            " ['Cinnamon' 'Cinnamon']\n",
            " ['Cinnamon' 'Cinnamon']\n",
            " ['Tomato' 'Tomato']\n",
            " ['Turmeric' 'Turmeric']\n",
            " ['Cinnamon' 'Cinnamon']\n",
            " ['Tomato' 'Tomato']\n",
            " ['Turmeric' 'Turmeric']\n",
            " ['Turmeric' 'Turmeric']\n",
            " ['Turmeric' 'Turmeric']\n",
            " ['Cinnamon' 'Cinnamon']\n",
            " ['Cinnamon' 'Cinnamon']\n",
            " ['Rice' 'Rice']\n",
            " ['Cinnamon' 'Cinnamon']\n",
            " ['Turmeric' 'Turmeric']\n",
            " ['Tomato' 'Tomato']\n",
            " ['Tomato' 'Tomato']\n",
            " ['Tomato' 'Tomato']\n",
            " ['Turmeric' 'Turmeric']\n",
            " ['Rice' 'Rice']\n",
            " ['Turmeric' 'Turmeric']\n",
            " ['Cinnamon' 'Cinnamon']\n",
            " ['Cinnamon' 'Cinnamon']\n",
            " ['Rice' 'Rice']\n",
            " ['Cinnamon' 'Cinnamon']\n",
            " ['Tomato' 'Tomato']\n",
            " ['Turmeric' 'Turmeric']\n",
            " ['Cinnamon' 'Cinnamon']\n",
            " ['Rice' 'Rice']\n",
            " ['Rice' 'Rice']\n",
            " ['Cinnamon' 'Cinnamon']\n",
            " ['Turmeric' 'Turmeric']\n",
            " ['Tomato' 'Tomato']\n",
            " ['Cinnamon' 'Cinnamon']\n",
            " ['Cinnamon' 'Cinnamon']\n",
            " ['Turmeric' 'Turmeric']\n",
            " ['Tomato' 'Tomato']\n",
            " ['Rice' 'Rice']\n",
            " ['Turmeric' 'Turmeric']\n",
            " ['Tomato' 'Tomato']]\n"
          ]
        }
      ]
    }
  ]
}